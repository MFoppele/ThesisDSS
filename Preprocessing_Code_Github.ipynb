{
  "nbformat": 4,
  "nbformat_minor": 0,
  "metadata": {
    "colab": {
      "name": "Preprocessing_Code_Github.ipynb",
      "provenance": [],
      "collapsed_sections": []
    },
    "kernelspec": {
      "name": "python3",
      "display_name": "Python 3"
    },
    "language_info": {
      "name": "python"
    }
  },
  "cells": [
    {
      "cell_type": "code",
      "metadata": {
        "id": "ZEG4w059AHZw"
      },
      "source": [
        "df = pd.read_excel(r'Path\\to\\location\\of\\file') #Loading the data"
      ],
      "execution_count": null,
      "outputs": []
    },
    {
      "cell_type": "code",
      "metadata": {
        "id": "saxNArb0AZBe"
      },
      "source": [
        "print(len(df['Spoken'].unique())) #Test to see how long the aligned data set should be"
      ],
      "execution_count": null,
      "outputs": []
    },
    {
      "cell_type": "code",
      "metadata": {
        "id": "3rpHyOooAa8x"
      },
      "source": [
        "aligned_data = df.groupby('Spoken')['Sign'].apply(lambda group_series: group_series.tolist()).reset_index() #Allocates all the snippits to their correct counterpart in list format"
      ],
      "execution_count": null,
      "outputs": []
    },
    {
      "cell_type": "code",
      "metadata": {
        "id": "78-VH0IfAdL5"
      },
      "source": [
        "mini = aligned_data.head(50) #Creates a size 50 sample for quick testing of other preprocessing codes"
      ],
      "execution_count": null,
      "outputs": []
    },
    {
      "cell_type": "code",
      "metadata": {
        "id": "OD_nLYJSAfzE"
      },
      "source": [
        "for index in range(len(mini['Sign'])):\n",
        "  mini['Sign'][index] = [word for word in mini['Sign'][index] if not(pd.isnull(word)) == True] #Removing all the nan's from the data "
      ],
      "execution_count": null,
      "outputs": []
    },
    {
      "cell_type": "code",
      "metadata": {
        "id": "p5tloOFnAlQQ"
      },
      "source": [
        " def list_to_string(data): \n",
        "  for index in range(len(data['Sign'])):\n",
        "    mini['Sign'][index] = ' '.join([str(i) for i in data['Sign'][index]]) #Transforms the lists into strings\n",
        "  return data\n",
        "\n",
        "list_to_string(mini)"
      ],
      "execution_count": null,
      "outputs": []
    },
    {
      "cell_type": "code",
      "metadata": {
        "id": "bdibpJtEtrk6"
      },
      "source": [
        "regex = re.compile('[^a-zA-ZäöüïëÄÜÖÏËß]') #Removing non alphabetic characters, excluding e.g. ä which is a common letter in German https://stackoverflow.com/questions/22520932/python-remove-all-non-alphabet-chars-from-string"
      ],
      "execution_count": null,
      "outputs": []
    },
    {
      "cell_type": "code",
      "metadata": {
        "id": "D87SiF37trnF"
      },
      "source": [
        "for index in range(len(mini['Sign'])):\n",
        "  mini['Sign'][index] = regex.sub(' ', mini['Sign'][index]).lower() #Loop to implement regex on all sentences in Sign column, makes letters lowercase"
      ],
      "execution_count": null,
      "outputs": []
    },
    {
      "cell_type": "code",
      "metadata": {
        "id": "LrzYsPuntrqI"
      },
      "source": [
        "for index in range(len(mini['Spoken'])):\n",
        "  mini['Spoken'][index] = regex.sub(' ', mini['Spoken'][index]).lower() #Loop to implement regex on all sentences in spoken column, makes letters lowercase"
      ],
      "execution_count": null,
      "outputs": []
    },
    {
      "cell_type": "code",
      "metadata": {
        "id": "pAi8JPvGtrus"
      },
      "source": [
        "for index in range(len(mini['Spoken'])):\n",
        "  mini['Spoken'][index] = mini['Spoken'][index].split() #Remove all spaces by returning plain text back to lists, this will also be used to remove words consisting of one letter (there are not any in German)"
      ],
      "execution_count": null,
      "outputs": []
    },
    {
      "cell_type": "code",
      "metadata": {
        "id": "l6PHWOfktrxQ"
      },
      "source": [
        "for index in range(len(mini['Sign'])):\n",
        "  mini['Sign'][index] = mini['Sign'][index].split() #Remove all spaces by returning plain text back to lists, this will also be used to remove words consisting of one letter (there are not any in German)"
      ],
      "execution_count": null,
      "outputs": []
    },
    {
      "cell_type": "code",
      "metadata": {
        "id": "wl0v_uFItr0U"
      },
      "source": [
        "for index in range(len(mini['Sign'])):\n",
        "  for subindex in range(len(mini['Sign'][index])):\n",
        "     mini['Sign'][index] = [i for i in mini['Sign'][index] if len(i) > 1] #Remove all words <= 1 from sign column "
      ],
      "execution_count": null,
      "outputs": []
    }
  ]
}
